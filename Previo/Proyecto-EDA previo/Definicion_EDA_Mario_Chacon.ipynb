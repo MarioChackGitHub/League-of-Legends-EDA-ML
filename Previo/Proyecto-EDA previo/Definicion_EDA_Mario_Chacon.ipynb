{
  "cells": [
    {
      "cell_type": "markdown",
      "metadata": {
        "id": "Z2WClYnkAdEm"
      },
      "source": [
        "![imagen](./img/ejercicios.png)"
      ]
    },
    {
      "cell_type": "markdown",
      "metadata": {
        "id": "uPlI7d1zAdEq"
      },
      "source": [
        "# INFORMACIÓN DEL PROYECTO"
      ]
    },
    {
      "cell_type": "code",
      "execution_count": null,
      "metadata": {
        "id": "RJiGsoDLAdEq"
      },
      "outputs": [],
      "source": [
        "import pandas as pd"
      ]
    },
    {
      "cell_type": "markdown",
      "metadata": {
        "id": "b7xjevSYAdEr"
      },
      "source": [
        "### TÍTULO"
      ]
    },
    {
      "cell_type": "markdown",
      "metadata": {
        "id": "rxlKgZKpAdEs"
      },
      "source": [
        "### League of Legends: Analisis en profundidad"
      ]
    },
    {
      "cell_type": "markdown",
      "metadata": {
        "id": "T9KxHJexAdEs"
      },
      "source": [
        "### TEMA"
      ]
    },
    {
      "cell_type": "markdown",
      "metadata": {
        "id": "2ubMG_jdAdEt"
      },
      "source": [
        "El proyecto consistirá en un análisis en profundidad de las diferentes características del videojuego, los factores más importantes para conseguir victorias: objetivos neutrales, composiciones, etc. Además, estudiaremos levemente su crecimiento en los ultimos años. con datos de audiencia."
      ]
    },
    {
      "cell_type": "markdown",
      "metadata": {
        "id": "SjWBpZ0mAdEu"
      },
      "source": [
        "### HIPÓTESIS"
      ]
    },
    {
      "cell_type": "markdown",
      "metadata": {
        "id": "A5L7z0DiAdEu"
      },
      "source": [
        "Define aquí lo que será la hipótesis de tu proyecto.\n",
        "Puede que tengas más de una, pero tu proyecto lo harás teniendo una principal hipótesis."
      ]
    },
    {
      "cell_type": "markdown",
      "metadata": {
        "id": "f6lzp5j3AdEv"
      },
      "source": [
        "Identificar las variables con más peso que intervienen en el devenir de las partidas, intentando definir un patrón con los más importantes. "
      ]
    },
    {
      "cell_type": "markdown",
      "metadata": {
        "id": "RW9Tar54AdEv"
      },
      "source": [
        "## OBTENCIÓN DE LOS DATOS"
      ]
    },
    {
      "cell_type": "markdown",
      "metadata": {
        "id": "oE-3pP2RAdEw"
      },
      "source": [
        "### DATASETS Y FUENTES ALTERNATIVAS DE DATOS"
      ]
    },
    {
      "cell_type": "markdown",
      "metadata": {
        "id": "cmHGUHxbAdEw"
      },
      "source": [
        "Incluye aquí una breve descripción del dataset o datasets de los que partirás para poder evaluar tu hipótesis. <br>\n",
        "También incluye el origen de estos datos y su fuente."
      ]
    },
    {
      "cell_type": "markdown",
      "metadata": {
        "id": "OukceeqpAdEx"
      },
      "source": [
        "Las principales fuentes de los datos con los que trabajaremos se obtendrán a partir de los siguientes enlaces:\n",
        "* https://www.kaggle.com/\n",
        "* https://twitchtracker.com/\n",
        "* https://www.businessofapps.com/data/twitch-statistics/\n",
        "* https://www.data-to-viz.com/"
      ]
    },
    {
      "cell_type": "markdown",
      "metadata": {
        "id": "Abp7M_40AdEx"
      },
      "source": [
        "Muestra mediante un head() los principales datasets con los que vas a trabajar"
      ]
    },
    {
      "cell_type": "code",
      "execution_count": 1,
      "metadata": {
        "id": "VhoVg2N1AdEx",
        "outputId": "2760bc8a-299f-4cbb-e4db-e507c33bef49"
      },
      "outputs": [],
      "source": [
        "# Primer dataset\n"
      ]
    },
    {
      "cell_type": "code",
      "execution_count": 2,
      "metadata": {
        "id": "KfzBSAMJAdEy",
        "outputId": "3ed65d08-e922-4841-ccf4-bbb66d8c50c3"
      },
      "outputs": [],
      "source": [
        "# df.info()"
      ]
    },
    {
      "cell_type": "code",
      "execution_count": 3,
      "metadata": {
        "id": "eQssggrrAdEy"
      },
      "outputs": [],
      "source": [
        "# Siguiente dataset..."
      ]
    },
    {
      "cell_type": "code",
      "execution_count": null,
      "metadata": {
        "id": "qg7YoT6rAdEz"
      },
      "outputs": [],
      "source": []
    }
  ],
  "metadata": {
    "colab": {
      "name": "1-Definicion_EDA.ipynb",
      "provenance": []
    },
    "interpreter": {
      "hash": "7c77fdb427e7cbc9bc1367dd530fc2b36aacdbbde1ac83c85833b10dfa8b831c"
    },
    "kernelspec": {
      "display_name": "Python 3.7.4 64-bit",
      "language": "python",
      "name": "python3"
    },
    "language_info": {
      "codemirror_mode": {
        "name": "ipython",
        "version": 3
      },
      "file_extension": ".py",
      "mimetype": "text/x-python",
      "name": "python",
      "nbconvert_exporter": "python",
      "pygments_lexer": "ipython3",
      "version": "3.7.4"
    },
    "orig_nbformat": 4
  },
  "nbformat": 4,
  "nbformat_minor": 0
}
